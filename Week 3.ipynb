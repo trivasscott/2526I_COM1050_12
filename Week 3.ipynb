{
 "cells": [
  {
   "cell_type": "code",
   "execution_count": null,
   "id": "6453dee7",
   "metadata": {},
   "outputs": [],
   "source": [
    "print(input()[::-1])"
   ]
  },
  {
   "cell_type": "code",
   "execution_count": null,
   "id": "f5320030",
   "metadata": {},
   "outputs": [],
   "source": [
    "a, b = map(int, input().split())\n",
    "a ^= b\n",
    "b ^= a\n",
    "a ^= b\n",
    "print(a, b)"
   ]
  },
  {
   "cell_type": "code",
   "execution_count": null,
   "id": "764baddc",
   "metadata": {},
   "outputs": [],
   "source": [
    "n = int(input())\n",
    "print(n & (n - 1) == 0)"
   ]
  },
  {
   "cell_type": "code",
   "execution_count": null,
   "id": "b546c3b0",
   "metadata": {},
   "outputs": [],
   "source": [
    "m, n = map(int, input().split())\n",
    "print(m // n)"
   ]
  },
  {
   "cell_type": "code",
   "execution_count": null,
   "id": "43cb3890",
   "metadata": {},
   "outputs": [],
   "source": [
    "m, n = map(int, input().split())\n",
    "print((m + n - 1) // n)"
   ]
  },
  {
   "cell_type": "code",
   "execution_count": null,
   "id": "0ce4a933",
   "metadata": {},
   "outputs": [],
   "source": [
    "print([\"Even\", \"Odd\"][int(input()) & 1])"
   ]
  },
  {
   "cell_type": "code",
   "execution_count": null,
   "id": "9443e38a",
   "metadata": {},
   "outputs": [],
   "source": [
    "print([\"Yes\", \"No\"][max(int(input()), int(input())) >= 0])"
   ]
  },
  {
   "cell_type": "code",
   "execution_count": null,
   "id": "859a0512",
   "metadata": {},
   "outputs": [],
   "source": [
    "print(len(input()) > len(input()))"
   ]
  },
  {
   "cell_type": "code",
   "execution_count": null,
   "id": "445f45a6",
   "metadata": {},
   "outputs": [],
   "source": [
    "s = [int(input()) for i in range(3)]\n",
    "print([\"No\", \"Yes\"][2 * max(s) < sum(s)])"
   ]
  },
  {
   "cell_type": "code",
   "execution_count": null,
   "id": "133d2bfb",
   "metadata": {},
   "outputs": [],
   "source": [
    "print(max([int(input()) for i in range(4)]))"
   ]
  },
  {
   "cell_type": "code",
   "execution_count": null,
   "id": "70d3893a",
   "metadata": {},
   "outputs": [],
   "source": [
    "a, b, c = map(int, input().split())\n",
    "s = 2 * max(a, b, c) < a + b + c\n",
    "print([\"Khong phai t\", \"T\"][s] + \"am giac\", [\"\", \"thuong\", \"can\", \"deu\"][s * (s + (a == b or a == c) + (a == b == c))])"
   ]
  },
  {
   "cell_type": "code",
   "execution_count": null,
   "id": "ff6c6212",
   "metadata": {},
   "outputs": [],
   "source": [
    "n = int(input())\n",
    "print([\"No\", \"Yes\"][(n % 4 == 0 and n % 100 != 0) or (n % 400 == 0)])"
   ]
  },
  {
   "cell_type": "code",
   "execution_count": null,
   "id": "326d6e20",
   "metadata": {},
   "outputs": [],
   "source": [
    "n = int(input())\n",
    "print(n * 1500 + max(0, n - 50) * 500 + max(0, n - 100) * 1000)"
   ]
  },
  {
   "cell_type": "code",
   "execution_count": null,
   "id": "966b79a9",
   "metadata": {},
   "outputs": [],
   "source": [
    "a, b = float(input()), float(input())\n",
    "print(\"Vo so nghiem\" if (a or b) == 0 else \"Vo nghiem\" if a == 0 else round(-b / a, 2))"
   ]
  },
  {
   "cell_type": "code",
   "execution_count": null,
   "id": "4c33b8e3",
   "metadata": {},
   "outputs": [],
   "source": [
    "n = float(input())\n",
    "print(\"Gioi\" if n >= 8.0 else \"Kha\" if n >= 6.5 else \"Trung binh\" if n >= 5.0 else \"Yeu\")"
   ]
  },
  {
   "cell_type": "code",
   "execution_count": null,
   "id": "5c78cb59",
   "metadata": {},
   "outputs": [],
   "source": [
    "n = float(input())\n",
    "print(int(-(-n // 1)), int(n // 1), int(n + 0.5) if n > 0 else int(n - 0.5))"
   ]
  }
 ],
 "metadata": {
  "language_info": {
   "name": "python"
  }
 },
 "nbformat": 4,
 "nbformat_minor": 5
}
