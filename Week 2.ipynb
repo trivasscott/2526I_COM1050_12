{
 "cells": [
  {
   "cell_type": "code",
   "execution_count": null,
   "id": "6ae373bc",
   "metadata": {},
   "outputs": [],
   "source": [
    "print(int(input() * 2))"
   ]
  },
  {
   "cell_type": "code",
   "execution_count": null,
   "id": "0f65c316",
   "metadata": {},
   "outputs": [],
   "source": [
    "a, b = map(int, input().split())\n",
    "print(round(a * b - 3.14 * (a / 2) ** 2))"
   ]
  },
  {
   "cell_type": "code",
   "execution_count": null,
   "id": "b2c68b6e",
   "metadata": {},
   "outputs": [],
   "source": [
    "n = ord(input())\n",
    "print(chr(n - 32) if n >= 97 else chr(n + 32))"
   ]
  },
  {
   "cell_type": "code",
   "execution_count": null,
   "id": "edd37cfa",
   "metadata": {},
   "outputs": [],
   "source": [
    "c = input()\n",
    "print(f\"{c} {\"là\" if ord('a') <= ord(c) <= ord('z') or ord('A') <= ord(c) <= ord('Z') else \"không phải là\"} kí tự alphabet\")"
   ]
  },
  {
   "cell_type": "code",
   "execution_count": null,
   "id": "6124ccc0",
   "metadata": {},
   "outputs": [],
   "source": [
    "a = input()\n",
    "print(chr(ord(a) + 31) if a != 'A' else \"Trường hợp đặc biệt\")"
   ]
  },
  {
   "cell_type": "code",
   "execution_count": null,
   "id": "d9e6e7b1",
   "metadata": {},
   "outputs": [],
   "source": [
    "a, b, c = map(int, input().split())\n",
    "s = (a + b + c) * (-a + b + c) * (a - b + c) * (a + b - c)\n",
    "print(round(s ** .5 / 4, 1) if s > 0 else \"Khong phai 3 canh cua tam giac\")"
   ]
  },
  {
   "cell_type": "code",
   "execution_count": null,
   "id": "e4159602",
   "metadata": {},
   "outputs": [],
   "source": [
    "s = input()\n",
    "print(s[4], s[8])"
   ]
  },
  {
   "cell_type": "code",
   "execution_count": null,
   "id": "c848be88",
   "metadata": {},
   "outputs": [],
   "source": [
    "s = input(\"Ten chu ho: \")\n",
    "n = - int(input(\"Chi so thang truoc: \")) + int(input(\"Chi so thang nay: \"))\n",
    "print(f\"\"\"\n",
    "Ho va ten: {s}\n",
    "Tien phai tra la: {round((1984 * max(0, min(n, 50)) + 2050 * max(0, min(n - 50, 50)) + 2380 * max(0, min(n - 100, 100)) + 2998 * max(0, min(n - 200, 100)) + 3350 * max(0, min(n - 300, 100)) + 3460 * max(0, n - 400)) * 1.08)}\n",
    "\"\"\")"
   ]
  },
  {
   "cell_type": "code",
   "execution_count": null,
   "id": "7c4c1375",
   "metadata": {},
   "outputs": [],
   "source": [
    "print(\"Chan\" if int(input()) % 2 == 0 else \"Le\")"
   ]
  },
  {
   "cell_type": "code",
   "execution_count": null,
   "id": "21713ebc",
   "metadata": {},
   "outputs": [],
   "source": [
    "print(int(input()) % 5 == 0)"
   ]
  },
  {
   "cell_type": "code",
   "execution_count": null,
   "id": "6762056c",
   "metadata": {},
   "outputs": [],
   "source": [
    "print(int(input()) % 15 == 0)"
   ]
  },
  {
   "cell_type": "code",
   "execution_count": null,
   "id": "bab0367a",
   "metadata": {},
   "outputs": [],
   "source": [
    "print(\"Du \" if int(input()) >= 18 else \"Khong\")"
   ]
  },
  {
   "cell_type": "code",
   "execution_count": null,
   "id": "589e73ed",
   "metadata": {},
   "outputs": [],
   "source": [
    "a, b = map(int, input().split())\n",
    "print(max(a, b) if a != b else \"2 so bang nhau\")"
   ]
  },
  {
   "cell_type": "code",
   "execution_count": null,
   "id": "08deaaa4",
   "metadata": {},
   "outputs": [],
   "source": [
    "print(\"So\" if '0' <= input() <= '9' else \"Chu cai\")"
   ]
  },
  {
   "cell_type": "code",
   "execution_count": null,
   "id": "482ffab5",
   "metadata": {},
   "outputs": [],
   "source": [
    "n = float(input())\n",
    "print(\"Gioi\" if n >= 8 else \"Kha\" if n >= 6.5 else \"Trung binh\" if n >= 5 else \"Yeu\")"
   ]
  },
  {
   "cell_type": "code",
   "execution_count": null,
   "id": "f6726e75",
   "metadata": {},
   "outputs": [],
   "source": [
    "n = int(input())\n",
    "print(\"Nhuan\" if ((n % 400 == 0) or (n % 4 == 0 and n % 100 != 0)) else \"Khong nhuan\")"
   ]
  },
  {
   "cell_type": "code",
   "execution_count": null,
   "id": "e182dda7",
   "metadata": {},
   "outputs": [],
   "source": [
    "print([\"Khong\", \"Mot\", \"Hai\", \"Ba\", \"Bon\", \"Nam\", \"Sau\", \"Bay\", \"Tam\", \"Chin\"][int(input())])"
   ]
  },
  {
   "cell_type": "code",
   "execution_count": null,
   "id": "939d61cb",
   "metadata": {},
   "outputs": [],
   "source": [
    "print(\"Qua mon\" if int(input()) >= 4 else \"Hoc lai\")"
   ]
  },
  {
   "cell_type": "code",
   "execution_count": null,
   "id": "d8b40f65",
   "metadata": {},
   "outputs": [],
   "source": [
    "print(\"Du\" if 2025 - int(input()) >= 18 else \"Khong du\")"
   ]
  }
 ],
 "metadata": {
  "language_info": {
   "name": "python"
  }
 },
 "nbformat": 4,
 "nbformat_minor": 5
}
