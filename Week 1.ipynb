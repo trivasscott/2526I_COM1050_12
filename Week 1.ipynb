{
 "cells": [
  {
   "cell_type": "code",
   "execution_count": null,
   "id": "395f1174",
   "metadata": {},
   "outputs": [],
   "source": [
    "print(\"Hello World!\")"
   ]
  },
  {
   "cell_type": "code",
   "execution_count": null,
   "id": "bbf57fb4",
   "metadata": {},
   "outputs": [],
   "source": [
    "print(f\"Hello {input()}\")"
   ]
  },
  {
   "cell_type": "code",
   "execution_count": null,
   "id": "2e3e5ed1",
   "metadata": {},
   "outputs": [],
   "source": [
    "a, b = map(int, input().split())\n",
    "print(a + b, a * b, a - b, a // b, a % b, round(a / b, 2))"
   ]
  },
  {
   "cell_type": "code",
   "execution_count": null,
   "id": "056c50e2",
   "metadata": {},
   "outputs": [],
   "source": [
    "a1, b1, c1, a2, b2, a3 = map(int, input().split())\n",
    "print(round(((a1 + b1 + c1) + (a2 + b2) * 2 + a3 * 3) / 10, 1))"
   ]
  },
  {
   "cell_type": "code",
   "execution_count": null,
   "id": "9f42e46b",
   "metadata": {},
   "outputs": [],
   "source": [
    "a, b = map(int, input().split())\n",
    "print(a ** b)"
   ]
  },
  {
   "cell_type": "code",
   "execution_count": null,
   "id": "a36c66a0",
   "metadata": {},
   "outputs": [],
   "source": [
    "a = input()\n",
    "print(ord(a), chr(ord(a) - 32))"
   ]
  },
  {
   "cell_type": "code",
   "execution_count": null,
   "id": "b932be11",
   "metadata": {},
   "outputs": [],
   "source": [
    "a, b = ((13 ** 2) * 3) + 5, 13 ** 2 * 3 + 5\n",
    "print(a, b)"
   ]
  },
  {
   "cell_type": "code",
   "execution_count": null,
   "id": "c3a79cd3",
   "metadata": {},
   "outputs": [],
   "source": [
    "print(round(9/5 * int(input()) + 32, 2))"
   ]
  },
  {
   "cell_type": "code",
   "execution_count": null,
   "id": "e9b86d5c",
   "metadata": {},
   "outputs": [],
   "source": [
    "x = int(input())\n",
    "print(round((x + 10) * .4, 2))"
   ]
  },
  {
   "cell_type": "code",
   "execution_count": null,
   "id": "881dea34",
   "metadata": {},
   "outputs": [],
   "source": [
    "s = input().split()\n",
    "print(f\"Hello {s[0]}, {s[1]}, and {s[2]}.\")"
   ]
  },
  {
   "cell_type": "code",
   "execution_count": null,
   "id": "330d2d7e",
   "metadata": {},
   "outputs": [],
   "source": [
    "a, b = map(int, input().split())\n",
    "print(a * 3600 + b * 60)"
   ]
  },
  {
   "cell_type": "code",
   "execution_count": null,
   "id": "85088faf",
   "metadata": {},
   "outputs": [],
   "source": [
    "print(int(input()) ** 2 * 6)"
   ]
  },
  {
   "cell_type": "code",
   "execution_count": null,
   "id": "512b857d",
   "metadata": {},
   "outputs": [],
   "source": [
    "a, b = map(int, input().split())\n",
    "print(a * b % 10)"
   ]
  },
  {
   "cell_type": "code",
   "execution_count": null,
   "id": "46205a06",
   "metadata": {},
   "outputs": [],
   "source": [
    "a, b = input().split()\n",
    "print(b, a)"
   ]
  },
  {
   "cell_type": "code",
   "execution_count": null,
   "id": "1d82d245",
   "metadata": {},
   "outputs": [],
   "source": [
    "n = int(input())\n",
    "print(6 * n * (n - 1) + 1)"
   ]
  },
  {
   "cell_type": "code",
   "execution_count": null,
   "id": "a93b5f52",
   "metadata": {},
   "outputs": [],
   "source": [
    "for i in [\"Spring\", \"Summer\", \"Autumn\", \"Winter\"]:\n",
    "    print(i)"
   ]
  },
  {
   "cell_type": "code",
   "execution_count": null,
   "id": "d4b28f53",
   "metadata": {},
   "outputs": [],
   "source": [
    "for i in range(3):\n",
    "    print(\"*\" * (2 * i + 1))"
   ]
  },
  {
   "cell_type": "code",
   "execution_count": null,
   "id": "4de90532",
   "metadata": {},
   "outputs": [],
   "source": [
    "print(\"\"\"\n",
    "### # #   ### ###\n",
    " #  #  #   #   #\n",
    " #  #   #  #   #\n",
    " #  #  #   #   #\n",
    " #  # #    #   #\n",
    "\"\"\")"
   ]
  },
  {
   "cell_type": "code",
   "execution_count": null,
   "id": "f45428ac",
   "metadata": {},
   "outputs": [],
   "source": [
    "for i in [\"Monday\", \"Tuesday\", \"Wednesday\", \"Thursday\", \"Friday\", \"Saturday\", \"Friday\"]:\n",
    "    print(i)"
   ]
  },
  {
   "cell_type": "code",
   "execution_count": null,
   "id": "5b4aac56",
   "metadata": {},
   "outputs": [],
   "source": [
    "for i in [\"January\", \"February\", \"March\", \"April\", \"May\", \"June\", \"July\", \"August\", \"September\", \"October\", \"November\", \"December\"]:\n",
    "    print(i)"
   ]
  },
  {
   "cell_type": "code",
   "execution_count": null,
   "id": "b60d47f0",
   "metadata": {},
   "outputs": [],
   "source": [
    "print(\"Hello, World\\n\" * 10)"
   ]
  }
 ],
 "metadata": {
  "kernelspec": {
   "display_name": "Python 3",
   "language": "python",
   "name": "python3"
  },
  "language_info": {
   "codemirror_mode": {
    "name": "ipython",
    "version": 3
   },
   "file_extension": ".py",
   "mimetype": "text/x-python",
   "name": "python",
   "nbconvert_exporter": "python",
   "pygments_lexer": "ipython3",
   "version": "3.9.13"
  }
 },
 "nbformat": 4,
 "nbformat_minor": 5
}
