{
 "cells": [
  {
   "cell_type": "code",
   "execution_count": null,
   "id": "efe87138",
   "metadata": {},
   "outputs": [
    {
     "name": "stdout",
     "output_type": "stream",
     "text": [
      "5050\n"
     ]
    }
   ],
   "source": [
    "#SumOfNumBers\n",
    "print(sum(i + 1 for i in range(int(input()))))"
   ]
  },
  {
   "cell_type": "code",
   "execution_count": null,
   "id": "16e3369e",
   "metadata": {},
   "outputs": [
    {
     "name": "stdout",
     "output_type": "stream",
     "text": [
      "False\n"
     ]
    }
   ],
   "source": [
    "#PrimeNumber\n",
    "n = int(input())\n",
    "i, ans = 2, n > 1\n",
    "while i * i <= n and ans:\n",
    "    ans &= n % i != 0\n",
    "    i += 1\n",
    "print(ans)"
   ]
  },
  {
   "cell_type": "code",
   "execution_count": 5,
   "id": "6726e1b7",
   "metadata": {},
   "outputs": [
    {
     "name": "stdout",
     "output_type": "stream",
     "text": [
      "40320\n"
     ]
    }
   ],
   "source": [
    "#Factorial\n",
    "ans = 1\n",
    "for i in range(int(input())):\n",
    "    ans *= i + 1\n",
    "print(ans)"
   ]
  },
  {
   "cell_type": "code",
   "execution_count": null,
   "id": "b3259fa1",
   "metadata": {},
   "outputs": [
    {
     "name": "stdout",
     "output_type": "stream",
     "text": [
      "11\n"
     ]
    }
   ],
   "source": [
    "#CountingDigits\n",
    "n, ans = abs(int(input())), 0\n",
    "while n:\n",
    "    ans += 1\n",
    "    n //= 10\n",
    "print(max(ans, 1))"
   ]
  },
  {
   "cell_type": "code",
   "execution_count": 34,
   "id": "5734f3d7",
   "metadata": {},
   "outputs": [
    {
     "name": "stdout",
     "output_type": "stream",
     "text": [
      "It's a joke!\n"
     ]
    }
   ],
   "source": [
    "#MeaningOfLife\n",
    "n, s, ans = int(input()), input().split(), 0\n",
    "for i in range(n):\n",
    "    ans |= s[i] == '42'\n",
    "print(['It\\'s a joke!','I\\'ve found the meaning of life!'][ans])"
   ]
  },
  {
   "cell_type": "code",
   "execution_count": 50,
   "id": "55f698a3",
   "metadata": {},
   "outputs": [
    {
     "name": "stdout",
     "output_type": "stream",
     "text": [
      "0\n"
     ]
    }
   ],
   "source": [
    "#SumPrimesInRange\n",
    "a, b = map(int, input().split())\n",
    "s, i = [0] * 2 + [1] * b, 2\n",
    "while i * i <= b:\n",
    "    if s[i]:\n",
    "        j = i * i\n",
    "        while j <= b:\n",
    "            s[j] = 0\n",
    "            j += i\n",
    "    i += 1\n",
    "print(sum(k * s[k] for k in range(a, b + 1)))"
   ]
  },
  {
   "cell_type": "code",
   "execution_count": 22,
   "id": "e1009c19",
   "metadata": {},
   "outputs": [
    {
     "name": "stdout",
     "output_type": "stream",
     "text": [
      "97\n"
     ]
    }
   ],
   "source": [
    "#LargestPrimeFactor\n",
    "n = int(input())\n",
    "ans = 2\n",
    "for i in range(2, int(n ** 0.5) + 3):\n",
    "    while n % i == 0:\n",
    "        ans = i\n",
    "        n //= i\n",
    "if n > 2:\n",
    "    ans = n\n",
    "print(ans)"
   ]
  },
  {
   "cell_type": "code",
   "execution_count": 34,
   "id": "56d26736",
   "metadata": {},
   "outputs": [
    {
     "name": "stdout",
     "output_type": "stream",
     "text": [
      "4 9339\n"
     ]
    }
   ],
   "source": [
    "#ReverseAddPalindrome\n",
    "n = int(input())\n",
    "s = 0\n",
    "while n != int(str(n)[::-1]):\n",
    "    n += int(str(n)[::-1])\n",
    "    s += 1\n",
    "print(s, n)"
   ]
  },
  {
   "cell_type": "code",
   "execution_count": null,
   "id": "914693a8",
   "metadata": {},
   "outputs": [
    {
     "name": "stdout",
     "output_type": "stream",
     "text": [
      "1 4 9 16 25 36 49 64 81 169 196 256 289 324 361 529 576 625 729 784 841 961 1024 1089 1296 1369 1764 1849 1936 2304 2401 2601 2704 2809 2916 3025 3249 3481 3721 4096 4356 4761 5041 5184 5329 5476 6084 6241 6724 7056 7396 7569 7921 8649 9025 9216 9604 9801 "
     ]
    }
   ],
   "source": [
    "#PerfectSquaresDistinctDigits\n",
    "n = int(input())\n",
    "def dif(x):\n",
    "    l = [0] * 10\n",
    "    while x:\n",
    "        l[x % 10] += 1\n",
    "        x //= 10\n",
    "    return max(l) <= 1\n",
    "        \n",
    "if n:\n",
    "    for i in range(1, int(n ** 0.5) + 1):\n",
    "        if dif(i * i):\n",
    "            print(i * i, end=' ')\n",
    "else:\n",
    "    print('No number')"
   ]
  },
  {
   "cell_type": "code",
   "execution_count": 11,
   "id": "46bffa40",
   "metadata": {},
   "outputs": [
    {
     "name": "stdout",
     "output_type": "stream",
     "text": [
      "171 125\n"
     ]
    }
   ],
   "source": [
    "#LongestCollatzUpToN\n",
    "n = int(input())\n",
    "f = {1: 1}\n",
    "def clen(x: int) -> int:\n",
    "    if x in f:\n",
    "        return f[x]\n",
    "    if x % 2 == 0:\n",
    "        f[x] = clen(x // 2) + 1\n",
    "    else:\n",
    "        f[x] = clen(3 * x + 1) + 1\n",
    "    return f[x]\n",
    "id, ans = 1, 1\n",
    "for i in range(2, n + 1):\n",
    "    if clen(i) > ans:\n",
    "        id, ans = i, f[i]\n",
    "print(id, ans)"
   ]
  },
  {
   "cell_type": "code",
   "execution_count": 55,
   "id": "ef92db66",
   "metadata": {},
   "outputs": [
    {
     "name": "stdout",
     "output_type": "stream",
     "text": [
      "12\n"
     ]
    }
   ],
   "source": [
    "#EvenDivisors\n",
    "n = int(input())\n",
    "i, ans = 1, 0\n",
    "while i * i <= n:\n",
    "    if n % i == 0:\n",
    "        ans += (i % 2 == 0) + (n // i != i and n // i % 2 == 0)\n",
    "    i += 1\n",
    "print(ans)"
   ]
  },
  {
   "cell_type": "code",
   "execution_count": 15,
   "id": "378a18a0",
   "metadata": {},
   "outputs": [
    {
     "name": "stdout",
     "output_type": "stream",
     "text": [
      "10902\n"
     ]
    }
   ],
   "source": [
    "#Interest\n",
    "x, n = map(int, input().split())\n",
    "print(int(x * 1.007 ** n))"
   ]
  },
  {
   "cell_type": "code",
   "execution_count": 27,
   "id": "3456864b",
   "metadata": {},
   "outputs": [
    {
     "name": "stdout",
     "output_type": "stream",
     "text": [
      "True\n"
     ]
    }
   ],
   "source": [
    "a, b = map(int, input().split())\n",
    "def cnt(x: int) -> int:\n",
    "    ans, i = 0, 1\n",
    "    while i * i <= x:\n",
    "        if x % i == 0:\n",
    "            ans += i + x // i\n",
    "        i += 1\n",
    "    if (i - 1) ** 2 == x:\n",
    "        ans -= i - 1\n",
    "    ans -= x\n",
    "    return ans\n",
    "print((cnt(a) == b) and (cnt(b) == a))"
   ]
  },
  {
   "cell_type": "code",
   "execution_count": 60,
   "id": "acd5b703",
   "metadata": {},
   "outputs": [
    {
     "name": "stdout",
     "output_type": "stream",
     "text": [
      "1\n"
     ]
    }
   ],
   "source": [
    "#GCD\n",
    "m, n = map(int, input().split())\n",
    "while n:\n",
    "    m, n = n, m % n\n",
    "print(m)"
   ]
  },
  {
   "cell_type": "code",
   "execution_count": 44,
   "id": "2f537eae",
   "metadata": {},
   "outputs": [
    {
     "name": "stdout",
     "output_type": "stream",
     "text": [
      "119 1\n"
     ]
    }
   ],
   "source": [
    "#ChickenAndDog\n",
    "a, b = map(int, input().split())\n",
    "print('invalid' if (a + b) & 1 else f'{a - (b - 2 * a) // 2} {(b - 2 * a) // 2}')"
   ]
  },
  {
   "cell_type": "code",
   "execution_count": 50,
   "id": "68b75cb6",
   "metadata": {},
   "outputs": [
    {
     "name": "stdout",
     "output_type": "stream",
     "text": [
      "6 12 18 24 30 36 42 48 54 60 66 72 78 84 90 96\n"
     ]
    }
   ],
   "source": [
    "#W4A16\n",
    "print(*range(6, 100, 6))"
   ]
  },
  {
   "cell_type": "code",
   "execution_count": 58,
   "id": "78aff152",
   "metadata": {},
   "outputs": [
    {
     "name": "stdout",
     "output_type": "stream",
     "text": [
      "4 x 1 = 4\n",
      "4 x 2 = 8\n",
      "4 x 3 = 12\n",
      "4 x 4 = 16\n",
      "4 x 5 = 20\n",
      "4 x 6 = 24\n",
      "4 x 7 = 28\n",
      "4 x 8 = 32\n",
      "4 x 9 = 36\n",
      "4 x 10 = 40\n"
     ]
    }
   ],
   "source": [
    "#W4A17\n",
    "a = int(input())\n",
    "print('\\n'.join([f'{a} x {i + 1} = {a * (i + 1)}' for i in range(10)]))"
   ]
  },
  {
   "cell_type": "code",
   "execution_count": 64,
   "id": "9a47fa3e",
   "metadata": {},
   "outputs": [
    {
     "name": "stdout",
     "output_type": "stream",
     "text": [
      "1 2 4 8 16\n"
     ]
    }
   ],
   "source": [
    "#W4A18\n",
    "a, b = map(int, input().split())\n",
    "while b:\n",
    "    a, b = b, a % b\n",
    "s = []\n",
    "i = 1\n",
    "while i * i <= a:\n",
    "    if a % i == 0:\n",
    "        s.append(i)\n",
    "        if i != a // i:\n",
    "            s.append(a // i)\n",
    "    i += 1\n",
    "print(*sorted(s))"
   ]
  },
  {
   "cell_type": "code",
   "execution_count": 80,
   "id": "7514a651",
   "metadata": {},
   "outputs": [
    {
     "name": "stdout",
     "output_type": "stream",
     "text": [
      "2 4 6 8 10\n"
     ]
    }
   ],
   "source": [
    "#EvenNumBers\n",
    "print(' '.join(map(str, [i << 1 for i in range(1, int(input()) // 2 + 1)])))"
   ]
  },
  {
   "cell_type": "code",
   "execution_count": null,
   "id": "7976f743",
   "metadata": {},
   "outputs": [
    {
     "name": "stdout",
     "output_type": "stream",
     "text": [
      "False\n"
     ]
    }
   ],
   "source": [
    "#W4A20\n",
    "n = int(input())\n",
    "print(n > 0 and n & (n - 1) == 0)"
   ]
  },
  {
   "cell_type": "code",
   "execution_count": 83,
   "id": "660a2cae",
   "metadata": {},
   "outputs": [
    {
     "name": "stdout",
     "output_type": "stream",
     "text": [
      "30\n"
     ]
    }
   ],
   "source": [
    "#W4A21\n",
    "n, ans = int(input()), 0\n",
    "while n:\n",
    "    ans += n % 10\n",
    "    n //= 10\n",
    "print(ans)"
   ]
  },
  {
   "cell_type": "code",
   "execution_count": 86,
   "id": "20a8e575",
   "metadata": {},
   "outputs": [
    {
     "name": "stdout",
     "output_type": "stream",
     "text": [
      "3 so chan va 4 so le\n"
     ]
    }
   ],
   "source": [
    "#W4A22\n",
    "n, ans = int(input()), [0, 0]\n",
    "while n:\n",
    "    ans[n % 10 & 1] += 1\n",
    "    n //= 10\n",
    "print(f'{ans[0]} so chan va {ans[1]} so le')"
   ]
  },
  {
   "cell_type": "code",
   "execution_count": 111,
   "id": "5cfa0c4e",
   "metadata": {},
   "outputs": [
    {
     "name": "stdout",
     "output_type": "stream",
     "text": [
      "5\n"
     ]
    }
   ],
   "source": [
    "#W4A23\n",
    "print(int(- (- ((-1 + (1 + 8 * int(input())) ** 0.5) / 2 - 1) // 1)))"
   ]
  },
  {
   "cell_type": "code",
   "execution_count": 112,
   "id": "6ae15dd0",
   "metadata": {},
   "outputs": [
    {
     "name": "stdout",
     "output_type": "stream",
     "text": [
      "4\n"
     ]
    }
   ],
   "source": [
    "#W4A24\n",
    "a, n, s = int(input()), 0, 0\n",
    "while s <= a:\n",
    "    n += 1\n",
    "    s += 1 / n\n",
    "print(n)"
   ]
  },
  {
   "cell_type": "code",
   "execution_count": 114,
   "id": "bbe5aab2",
   "metadata": {},
   "outputs": [
    {
     "name": "stdout",
     "output_type": "stream",
     "text": [
      "9 1\n"
     ]
    }
   ],
   "source": [
    "#W4A25\n",
    "s = []\n",
    "while len(s) == 0 or s[-1] != -1:\n",
    "    s.append(int(input()))\n",
    "print(max(s[:-1]), min(s[:-1]))"
   ]
  },
  {
   "cell_type": "code",
   "execution_count": 118,
   "id": "d928ae95",
   "metadata": {},
   "outputs": [
    {
     "name": "stdout",
     "output_type": "stream",
     "text": [
      "34\n"
     ]
    }
   ],
   "source": [
    "#Fibonaci1\n",
    "n = int(input())\n",
    "a, b = 1, 1\n",
    "while b <= n:\n",
    "    a, b = b, a + b\n",
    "print(a)"
   ]
  },
  {
   "cell_type": "code",
   "execution_count": null,
   "id": "df1a8576",
   "metadata": {},
   "outputs": [
    {
     "name": "stdout",
     "output_type": "stream",
     "text": [
      "3\n"
     ]
    }
   ],
   "source": [
    "#W4A27\n",
    "f, ans = 0, 0\n",
    "for i in input():\n",
    "    if i != ' ' and f == 0:\n",
    "        ans += 1\n",
    "        f = 1\n",
    "    elif i == ' ':\n",
    "        f = 0\n",
    "print(ans)"
   ]
  },
  {
   "cell_type": "code",
   "execution_count": 130,
   "id": "c58255b9",
   "metadata": {},
   "outputs": [
    {
     "name": "stdout",
     "output_type": "stream",
     "text": [
      "19\n"
     ]
    }
   ],
   "source": [
    "#W4A28\n",
    "s, i, ans = input(), 0, ''\n",
    "while i < len(s) and (s[i] != ' ' or ans == ''):\n",
    "    if s[i] != ' ':\n",
    "        ans += s[i]\n",
    "    i += 1\n",
    "print(ans)"
   ]
  },
  {
   "cell_type": "code",
   "execution_count": 134,
   "id": "ec663227",
   "metadata": {},
   "outputs": [
    {
     "name": "stdout",
     "output_type": "stream",
     "text": [
      "29\n"
     ]
    }
   ],
   "source": [
    "#W4A29\n",
    "s = input() + ' '\n",
    "ans, c = 0, 0\n",
    "for i in s:\n",
    "    if i in [',', ' ']:\n",
    "        ans, c = ans + c, 0\n",
    "    else:\n",
    "        c = 10 * c + ord(i) - 48\n",
    "print(ans)"
   ]
  },
  {
   "cell_type": "code",
   "execution_count": 136,
   "id": "51a8de4b",
   "metadata": {},
   "outputs": [
    {
     "name": "stdout",
     "output_type": "stream",
     "text": [
      "Co 2 ky tu in hoa, 5 ky tu in thuong, 3 ky tu so\n"
     ]
    }
   ],
   "source": [
    "#W4A30\n",
    "ans = [0, 0, 0]\n",
    "for i in input():\n",
    "    if 'A' <= i <= 'Z':\n",
    "        ans[0] += 1\n",
    "    elif 'a' <= i <= 'z':\n",
    "        ans[1] += 1\n",
    "    elif '0' <= i <= '9':\n",
    "        ans[2] += 1\n",
    "print(f'Co {ans[0]} ky tu in hoa, {ans[1]} ky tu in thuong, {ans[2]} ky tu so')"
   ]
  },
  {
   "cell_type": "code",
   "execution_count": 138,
   "id": "2d482532",
   "metadata": {},
   "outputs": [
    {
     "name": "stdout",
     "output_type": "stream",
     "text": [
      "30\n"
     ]
    }
   ],
   "source": [
    "#W4A31\n",
    "s, ans = input(), 0\n",
    "for i in s:\n",
    "    if '0' <= i <= '9':\n",
    "        ans += ord(i) - 48\n",
    "print(ans)"
   ]
  },
  {
   "cell_type": "code",
   "execution_count": 142,
   "id": "cd55983d",
   "metadata": {},
   "outputs": [
    {
     "name": "stdout",
     "output_type": "stream",
     "text": [
      "False\n"
     ]
    }
   ],
   "source": [
    "#W4A32\n",
    "s = input()\n",
    "cnt = [0, 0, 0, 0]\n",
    "for i in s:\n",
    "    if 'A' <= i <= 'Z':\n",
    "        cnt[0] += 1\n",
    "    elif 'a' <= i <= 'z':\n",
    "        cnt[1] += 1\n",
    "    elif '0' <= i <= '9':\n",
    "        cnt[2] += 1\n",
    "    else:\n",
    "        cnt[3] += 1\n",
    "print(min(cnt) > 0 and len(s) > 6)"
   ]
  },
  {
   "cell_type": "code",
   "execution_count": null,
   "id": "38a88c3c",
   "metadata": {},
   "outputs": [
    {
     "name": "stdout",
     "output_type": "stream",
     "text": [
      "1.246.818.811.490"
     ]
    }
   ],
   "source": [
    "#W4A33\n",
    "s = input()\n",
    "for i in range(len(s)):\n",
    "    print(s[i], end='')\n",
    "    if (i + 1) % 3 == len(s) % 3 and i + 1 < len(s):\n",
    "        print('.', end='')"
   ]
  },
  {
   "cell_type": "code",
   "execution_count": null,
   "id": "e725b2f9",
   "metadata": {},
   "outputs": [
    {
     "name": "stdout",
     "output_type": "stream",
     "text": [
      "mọi người!"
     ]
    }
   ],
   "source": [
    "#W4A34\n",
    "a, b = input(), input()\n",
    "f = [0] * len(a)\n",
    "for i in range(len(a) - len(b)):\n",
    "    if a[i : i + len(b)] == b:\n",
    "        f[i] += 1\n",
    "        f[i + len(b) + 1] -= 1\n",
    "s = 0\n",
    "for i in range(len(a)):\n",
    "    s += f[i]\n",
    "    if s == 0:\n",
    "        print(a[i], end='')"
   ]
  }
 ],
 "metadata": {
  "kernelspec": {
   "display_name": "Python 3",
   "language": "python",
   "name": "python3"
  },
  "language_info": {
   "codemirror_mode": {
    "name": "ipython",
    "version": 3
   },
   "file_extension": ".py",
   "mimetype": "text/x-python",
   "name": "python",
   "nbconvert_exporter": "python",
   "pygments_lexer": "ipython3",
   "version": "3.9.13"
  }
 },
 "nbformat": 4,
 "nbformat_minor": 5
}
